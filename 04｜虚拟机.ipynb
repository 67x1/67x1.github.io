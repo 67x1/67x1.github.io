{
  "cells": [
    {
      "cell_type": "markdown",
      "metadata": {},
      "source": [
        "### 虚拟机的安装"
      ]
    },
    {
      "cell_type": "markdown",
      "metadata": {},
      "source": [
        "略"
      ]
    },
    {
      "cell_type": "markdown",
      "metadata": {},
      "source": [
        "### Linux系统下的网络配置（Linux虚拟机的网络设定为桥接模式）"
      ]
    },
    {
      "cell_type": "markdown",
      "metadata": {},
      "source": [
        "桥接模式：虚拟机同主机一样，在网络中相当于一个真实存在的装有Linux系统的电脑。（我们先用这个模式）  \n",
        "NAT模式：在主机中虚拟一个局域网络，局域网络中的系统想要连接Internet，只能通过主机进行跳转连接（依靠主机），在网络中不占据真实的IP地址（目前不用，以后讲）  \n",
        "仅主机模式：只能和主机进行同网段网络连接，不能上Internet。（以后再说）  \n",
        "（1）ifconfig   查看网卡信息"
      ]
    },
    {
      "cell_type": "markdown",
      "metadata": {},
      "source": [
        "<img src='./images/04/36890c648510925697184be3ae62af4b67532818.png'>"
      ]
    },
    {
      "cell_type": "markdown",
      "metadata": {},
      "source": [
        "（2）ifconfig eth0 192.168.0.222/24  临时配置网卡IP"
      ]
    },
    {
      "cell_type": "markdown",
      "metadata": {},
      "source": [
        "<img src='./images/04/a22afdc71e7d7a99c1e433c1cfb6261fd0c96ae7.png'>"
      ]
    },
    {
      "cell_type": "markdown",
      "metadata": {},
      "source": [
        "### 用Xshell连接虚拟机"
      ]
    },
    {
      "cell_type": "markdown",
      "metadata": {},
      "source": [
        "linux虚拟机有了IP和掩码才能进行同网段的数据传输（要和主机同网段）  \n",
        " :Xshell软件如下图"
      ]
    },
    {
      "cell_type": "markdown",
      "metadata": {},
      "source": [
        "<img src='./images/04/42dd2e2dfb183cd135b7f456ec312e45e1fdc28a.png'>"
      ]
    },
    {
      "cell_type": "markdown",
      "metadata": {},
      "source": [
        "学校是Xshell4，回家下个Xshell5即可，都一样  \n",
        " :双击打开后如下图"
      ]
    },
    {
      "cell_type": "markdown",
      "metadata": {},
      "source": [
        "<img src='./images/04/ce3a002fda37ab60a8f1a58db6de9608bd5337b1.png'>"
      ]
    },
    {
      "cell_type": "markdown",
      "metadata": {},
      "source": [
        "比如我们在windows的CMD中输入ipconfig。如下图："
      ]
    },
    {
      "cell_type": "markdown",
      "metadata": {},
      "source": [
        "<img src='./images/04/765de66d70496ef9226d5a3a6343c280553e1083.png'>"
      ]
    },
    {
      "cell_type": "markdown",
      "metadata": {},
      "source": [
        "我们在Xshell的本地shell里输入ipconfig。如下图："
      ]
    },
    {
      "cell_type": "markdown",
      "metadata": {},
      "source": [
        "<img src='./images/04/a86f9b7eb5b5c15320440b0734a4426bc67ba85a.png'>"
      ]
    },
    {
      "cell_type": "markdown",
      "metadata": {},
      "source": [
        ":尝试连接linux虚拟机  \n",
        "（1）点击Xshell软件左上角的文件---->新建"
      ]
    },
    {
      "cell_type": "markdown",
      "metadata": {},
      "source": [
        "<img src='./images/04/5153ea8d897d555cc1c83b97b2a6e2ef2c6fdb41.png'>"
      ]
    },
    {
      "cell_type": "markdown",
      "metadata": {},
      "source": [
        "（2）配置远程连接的信息"
      ]
    },
    {
      "cell_type": "markdown",
      "metadata": {},
      "source": [
        "<img src='./images/04/b87c3759f022fe36bfe72d26c5001fef260cd831.png'>"
      ]
    },
    {
      "cell_type": "markdown",
      "metadata": {},
      "source": [
        "<img src='./images/04/b0e7e260b48b6ed4bcc1785bc41c6ed0b4e68d8b.png'>"
      ]
    },
    {
      "cell_type": "markdown",
      "metadata": {},
      "source": [
        "（3）开始连接远程主机"
      ]
    },
    {
      "cell_type": "markdown",
      "metadata": {},
      "source": [
        "<img src='./images/04/bb26ed499a4477e421801be02797e95cc986342c.png'>"
      ]
    },
    {
      "cell_type": "markdown",
      "metadata": {},
      "source": [
        "**注意**：  \n",
        "只要弹出下图的界面就说明连接成功了，如果连接的速度异常缓慢，那么说明在你当前的网络范围内，有人和你的Linux虚拟机的IP地址是一样的，产生冲突所致，尝试将Linux虚拟机的IP地址换一个。"
      ]
    },
    {
      "cell_type": "markdown",
      "metadata": {},
      "source": [
        "<img src='./images/04/a1df5754de939589b0952a50739a953547dbbfd3.png'>"
      ]
    },
    {
      "cell_type": "markdown",
      "metadata": {},
      "source": [
        "<img src='./images/04/ab2e15c10afa5cb3c5b310adb2a41bbb5cabe1b0.png'>"
      ]
    },
    {
      "cell_type": "markdown",
      "metadata": {},
      "source": [
        "<img src='./images/04/f9d756429812912741f6c73ae4a56fa038833846.png'>"
      ]
    },
    {
      "cell_type": "markdown",
      "metadata": {},
      "source": [
        "<img src='./images/04/3691bb22013e6554344e0b02daea607b80ac8055.png'>"
      ]
    },
    {
      "cell_type": "markdown",
      "metadata": {},
      "source": [
        "（4）测试xshell(在xshell里输入ifconfig)"
      ]
    },
    {
      "cell_type": "raw",
      "metadata": {},
      "source": [
        "[root@localhost ~]# ifconfig\n",
        "eth0      Link encap:Ethernet  HWaddr 00:0C:29:AB:4B:25\n",
        "          inet addr:192.168.0.222  Bcast:192.168.0.255  Mask:255.255.255.0\n",
        "          inet6 addr: fe80::20c:29ff:feab:4b25/64 Scope:Link\n",
        "          UP BROADCAST RUNNING MULTICAST  MTU:1500  Metric:1\n",
        "          RX packets:895 errors:0 dropped:0 overruns:0 frame:0\n",
        "          TX packets:41 errors:0 dropped:0 overruns:0 carrier:0\n",
        "          collisions:0 txqueuelen:1000\n",
        "          RX bytes:75551 (73.7 KiB)  TX bytes:5091 (4.9 KiB)\n",
        "lo        Link encap:Local Loopback\n",
        "          inet addr:127.0.0.1  Mask:255.0.0.0\n",
        "          inet6 addr: ::1/128 Scope:Host\n",
        "          UP LOOPBACK RUNNING  MTU:16436  Metric:1\n",
        "          RX packets:32 errors:0 dropped:0 overruns:0 frame:0\n",
        "          TX packets:32 errors:0 dropped:0 overruns:0 carrier:0\n",
        "          collisions:0 txqueuelen:0\n",
        "          RX bytes:2372 (2.3 KiB)  TX bytes:2372 (2.3 KiB)"
      ]
    },
    {
      "cell_type": "markdown",
      "metadata": {},
      "source": [
        "### Linux的网络管理"
      ]
    },
    {
      "cell_type": "markdown",
      "metadata": {},
      "source": [
        "（1）setup   管理网络设置"
      ]
    },
    {
      "cell_type": "raw",
      "metadata": {},
      "source": [
        "[root@localhost ~]# setup"
      ]
    },
    {
      "cell_type": "markdown",
      "metadata": {},
      "source": [
        "（2）Xshell和linux桌面下都是中文界面，但是Linux命令模式下的setup是英文界面  \n",
        "**Linux虚拟机的命令行模式setup界面**"
      ]
    },
    {
      "cell_type": "markdown",
      "metadata": {},
      "source": [
        "<img src='./images/04/e7c321a2572546b608642a519ff27ea68f7a00f5.png'>"
      ]
    },
    {
      "cell_type": "markdown",
      "metadata": {},
      "source": [
        "**Xshell界面下的setup界面**"
      ]
    },
    {
      "cell_type": "markdown",
      "metadata": {},
      "source": [
        "<img src='./images/04/42c0951d3faa01f943c8677ae1bdd8b83bed72a7.png'>"
      ]
    },
    {
      "cell_type": "markdown",
      "metadata": {},
      "source": [
        "（3）进入Network configuration界面（网络配置）  \n",
        "**Linux虚拟机的命令行模式setup界面**"
      ]
    },
    {
      "cell_type": "markdown",
      "metadata": {},
      "source": [
        "<img src='./images/04/5efa0ba181a8a571c557460861fd260f011fc6e5.png'>"
      ]
    },
    {
      "cell_type": "markdown",
      "metadata": {},
      "source": [
        "**Xshell界面下的setup界面**"
      ]
    },
    {
      "cell_type": "markdown",
      "metadata": {},
      "source": [
        "<img src='./images/04/6ed2bb036a61950d669325f0f131ddf6d81b9167.png'>"
      ]
    },
    {
      "cell_type": "markdown",
      "metadata": {},
      "source": [
        "（4）进入设备配置Device configuration  \n",
        "**Linux虚拟机的命令行模式setup界面**"
      ]
    },
    {
      "cell_type": "markdown",
      "metadata": {},
      "source": [
        "<img src='./images/04/0adbee683160b2af2f22633d875678817a8e0285.png'>"
      ]
    },
    {
      "cell_type": "markdown",
      "metadata": {},
      "source": [
        "**Xshell界面下的setup界面**"
      ]
    },
    {
      "cell_type": "markdown",
      "metadata": {},
      "source": [
        "<img src='./images/04/ad33ac497737c2125a6a29a5c455bd736a4365bd.png'>"
      ]
    },
    {
      "cell_type": "markdown",
      "metadata": {},
      "source": [
        "（5）选择一个网卡配置文件然后进入  \n",
        "**Linux虚拟机的命令行模式setup界面**"
      ]
    },
    {
      "cell_type": "markdown",
      "metadata": {},
      "source": [
        "<img src='./images/04/12c2fa6e7e72dcf56c79289940c402a2e4d7130d.png'>"
      ]
    },
    {
      "cell_type": "markdown",
      "metadata": {},
      "source": [
        "**Xshell界面下的setup界面**"
      ]
    },
    {
      "cell_type": "markdown",
      "metadata": {},
      "source": [
        "<img src='./images/04/438aa8ddbc67a81f40d6a29a6c91be38e46ff149.png'>"
      ]
    },
    {
      "cell_type": "markdown",
      "metadata": {},
      "source": [
        "**特别提示：（重点）**  \n",
        "DHCP：是网络中专门用于IP，掩码，网关信息自动批量分发的一种软件服务，当我们点选了使用DHCP以后，如果网络中存在DHCP服务，那么系统的IP，掩码，网关信息将会自动进行获取，此功能和windows的自动获取是相同的。  \n",
        "DNS解析服务：我们知道我们想上百度，那么输入www.baidu.com 就可以了。但是大家回想一下我们学过的网络知识，我们要在网络中找到目标的位置，是要通过网关进行转发的，网关需要的是你所发数据包的“IP头部”里的“目的IP地址”，因此，我们其实只有正确的输入了www.baidu.com 的确切IP地址以后网关才能帮我们找到它。那么为何我们输入www.baidu.com 也能连接到百度呢？这就是在网络中有一个东西帮我们将www.baidu.com 这个域名自动转换成了具体的IP地址。这个东西就是DNS解析服务器。因此，如果在系统中没有配置DNS解析服务的话，我们是不能直接通过域名（www.baidu.com ）来访问网站的。  \n",
        "假如我们没有启动DHCP服务，那么我们就需要手动设定linux系统网卡的（eth0）IP，掩码，网关等信息。假如我们只配置了IP，子网掩码。那么根据网络知识，数据只能在同网段内进行传输，是不能发到网关去的（同网段内数据传输原理）。如果我们配置了网关，数据就可以进行跨网段的数据传输了（跨网段数据传输原理）因此，如果你的网关可以沟通Internet的话，当你配置了网关，就可以上Internet了。  \n",
        "**特别注意：（重点）**  \n",
        "我们手动设定的Linux虚拟机的IP，掩码一定要和我们主机（我们的家用电脑的系统）所处的网络环境在同一个网段内，不然是无法通信的。网关也必须是这个网段内的真实网关IP地址（在家里就是猫的IP地址）  \n",
        "关于DNS的设置：一般情况下，DNS可以直接设定成网关IP（也有DNS功能）。或者设定为网络中公认的DNS地址，比如：202.106.0.10或201.106.0.20 （联通DNS）或8.8.8.8 and 4.4.4.4 （有点慢不是很好用）"
      ]
    },
    {
      "cell_type": "markdown",
      "metadata": {},
      "source": [
        "### 在setup中手动设定系统的IP地址，子网掩码，网关地址，DNS信息"
      ]
    },
    {
      "cell_type": "markdown",
      "metadata": {},
      "source": [
        "在setup里手动设定的IP，子网掩码，网关，DNS等信息，一旦经过保存，永远不会消失  \n",
        "（1）在setup的设备管理里手动配置信息  \n",
        "**Linux虚拟机的命令行模式setup界面**"
      ]
    },
    {
      "cell_type": "markdown",
      "metadata": {},
      "source": [
        "<img src='./images/04/61bf546856eb79b4c0fe5993a38568d1c8c978cd.png'>"
      ]
    },
    {
      "cell_type": "markdown",
      "metadata": {},
      "source": [
        "**Xshell界面下的setup界面**"
      ]
    },
    {
      "cell_type": "markdown",
      "metadata": {},
      "source": [
        "<img src='./images/04/869ac3309248d3675427cd77b3d890a0d6598770.png'>"
      ]
    },
    {
      "cell_type": "markdown",
      "metadata": {},
      "source": [
        "**特别提示**：  \n",
        "设定好网卡信息之后，一定要一路保存退出，一定要选保存。  \n",
        "（2）保存好以后，回到linux的命令行界面启动网卡配置文件"
      ]
    },
    {
      "cell_type": "raw",
      "metadata": {},
      "source": [
        "[root@localhost ~]# ifup eth0     #启动网卡配置文件的命令（ifdown eth0关闭）\n",
        "活跃连接状态：激活的\n",
        "活跃连接路径：/org/freedesktop/NetworkManager/ActiveConnection/3\n",
        "[root@localhost ~]# ifconfig eth0    #只查看eth0的网卡信息\n",
        "eth0      Link encap:Ethernet  HWaddr 00:0C:29:AB:4B:25\n",
        "          inet addr:192.168.0.222  Bcast:192.168.0.255  Mask:255.255.255.0\n",
        "          inet6 addr: fe80::20c:29ff:feab:4b25/64 Scope:Link\n",
        "          UP BROADCAST RUNNING MULTICAST  MTU:1500  Metric:1\n",
        "          RX packets:1854 errors:0 dropped:0 overruns:0 frame:0\n",
        "          TX packets:436 errors:0 dropped:0 overruns:0 carrier:0\n",
        "          collisions:0 txqueuelen:1000\n",
        "          RX bytes:152823 (149.2 KiB)  TX bytes:81587 (79.6 KiB)"
      ]
    },
    {
      "cell_type": "markdown",
      "metadata": {},
      "source": [
        "（3）测试网络连通性（ping命令）"
      ]
    },
    {
      "cell_type": "raw",
      "metadata": {},
      "source": [
        "[root@localhost ~]# ping www.baidu.com      #通过ping命令连接百度\n",
        "PING www.a.shifen.com (61.135.169.125) 56(84) bytes of data. bytes from 61.135.169.125: icmp_seq=1 ttl=57 time=4.28 ms bytes from 61.135.169.125: icmp_seq=2 ttl=57 time=4.14 ms bytes from 61.135.169.125: icmp_seq=3 ttl=57 time=4.33 ms bytes from 61.135.169.125: icmp_seq=4 ttl=57 time=4.34 ms bytes from 61.135.169.125: icmp_seq=5 ttl=57 time=4.66 ms bytes from 61.135.169.125: icmp_seq=6 ttl=57 time=8.28 ms\n",
        "特别提示：\n",
        "因为已经设置DNS，所以直接ping域名我们才能通，如果没有设定DNS，则系统不认识www.baidu.com是什么。\n",
        "百度的IP是61.135.169.125，连接的延迟时间为time。上边的信息表示数据连接畅通\n",
        "Crtl+C键就可以终止ping的连接测试"
      ]
    }
  ],
  "metadata": {
    "kernelspec": {
      "display_name": "Python 3 (ipykernel)",
      "language": "python",
      "name": "python3"
    },
    "language_info": {
      "codemirror_mode": {
        "name": "ipython",
        "version": 3
      },
      "file_extension": ".py",
      "mimetype": "text/x-python",
      "name": "python",
      "nbconvert_exporter": "python",
      "pygments_lexer": "ipython3",
      "version": "3.10.9"
    },
    "toc": {
      "base_numbering": 1,
      "nav_menu": {},
      "number_sections": true,
      "sideBar": true,
      "skip_h1_title": false,
      "title_cell": "Table of Contents",
      "title_sidebar": "Contents",
      "toc_cell": false,
      "toc_position": {
        "height": "calc(100% - 180px)",
        "left": "10px",
        "top": "150px",
        "width": "271.225px"
      },
      "toc_section_display": true,
      "toc_window_display": true
    }
  },
  "nbformat": 4,
  "nbformat_minor": 2
}